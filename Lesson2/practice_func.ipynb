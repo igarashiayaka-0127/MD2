{
 "cells": [
  {
   "cell_type": "code",
   "execution_count": 40,
   "id": "698b3293",
   "metadata": {},
   "outputs": [],
   "source": [
    "import py5"
   ]
  },
  {
   "cell_type": "markdown",
   "id": "e31e27b1",
   "metadata": {},
   "source": [
    "## 関数練習問題\n",
    "### 問1"
   ]
  },
  {
   "cell_type": "code",
   "execution_count": 42,
   "id": "c358b233",
   "metadata": {},
   "outputs": [
    {
     "name": "stderr",
     "output_type": "stream",
     "text": [
      "Sketch is already running. To run a new sketch, exit the running sketch first.\n"
     ]
    }
   ],
   "source": [
    "import py5\n",
    "\n",
    "def setup():\n",
    "    py5.size(400, 400)\n",
    "    py5.background(255)\n",
    "\n",
    "    # draw_circle関数を作成し、以下の3つの円を描く\n",
    "    draw_circle(100, 100, 50)  # x=100, y=100, 直径50\n",
    "    draw_circle(200, 200, 80)  # x=200, y=200, 直径80\n",
    "    draw_circle(300, 100, 30)  # x=300, y=100, 直径30\n",
    "\n",
    "def draw_circle(x, y, diameter):\n",
    "    # ここに円を描くコードを書く\n",
    "    py5.ellipse(x, y, diameter, diameter)\n",
    "    pass\n",
    "\n",
    "py5.run_sketch()\n"
   ]
  },
  {
   "cell_type": "markdown",
   "id": "4023dac6",
   "metadata": {},
   "source": [
    "### 問2"
   ]
  },
  {
   "cell_type": "code",
   "execution_count": 8,
   "id": "e632b7d3",
   "metadata": {},
   "outputs": [],
   "source": [
    "import py5\n",
    "\n",
    "def setup():\n",
    "    py5.size(400, 400)\n",
    "    py5.background(255)\n",
    "\n",
    "    # colored_rect関数を完成させる\n",
    "    colored_rect(50, 50, 100, 100, 255, 0, 0)   # 赤い四角形\n",
    "    colored_rect(200, 50, 80, 80, 0, 255, 0)    # 緑の四角形\n",
    "    colored_rect(100, 200, 120, 60, 0, 0, 255)  # 青い四角形\n",
    "\n",
    "def colored_rect(x, y, w, h, r, g, b):\n",
    "    # 色を設定して四角形を描く\n",
    "    py5.fill(r,g,b)\n",
    "    py5.rect(x ,y ,w, h)\n",
    "    pass\n",
    "\n",
    "py5.run_sketch()\n"
   ]
  },
  {
   "cell_type": "markdown",
   "id": "7e342c25",
   "metadata": {},
   "source": [
    "### 問3"
   ]
  },
  {
   "cell_type": "code",
   "execution_count": 20,
   "id": "c53f6668",
   "metadata": {},
   "outputs": [],
   "source": [
    "import py5\n",
    "\n",
    "def setup():\n",
    "    py5.size(400, 400)\n",
    "    py5.background(255)\n",
    "\n",
    "    # draw_pattern関数を作成\n",
    "    # 3x3の格子状に小さな円を描く\n",
    "    draw_pattern(100, 100)\n",
    "    draw_pattern(250, 250)\n",
    "\n",
    "def draw_pattern(center_x, center_y):\n",
    "    # center_x, center_yを中心に3x3の円のパターンを描く\n",
    "    # ヒント：二重ループを使う\n",
    "    for i in range(3):\n",
    "        for j in range(3):\n",
    "            py5.circle(center_x +i *30 ,center_y + j* 30 ,20 )\n",
    "    pass\n",
    "\n",
    "py5.run_sketch()\n"
   ]
  },
  {
   "cell_type": "markdown",
   "id": "013a0eab",
   "metadata": {},
   "source": [
    "### 問4"
   ]
  },
  {
   "cell_type": "code",
   "execution_count": 4,
   "id": "6a75208e",
   "metadata": {},
   "outputs": [],
   "source": [
    "import py5\n",
    "\n",
    "def setup():\n",
    "    py5.size(400, 400)\n",
    "    py5.background(255)\n",
    "\n",
    "    # 半径30の円の面積を計算\n",
    "    radius = 30\n",
    "    area = calculate_circle_area(radius)\n",
    "\n",
    "    # 面積を画面に表示\n",
    "    py5.fill(0)\n",
    "    py5.text(f\"Area: {area:.2f}\", 10, 20)\n",
    "\n",
    "    # 面積の大きさに応じた色で円を描く\n",
    "    # 面積が小さい（例：1000未満）：青\n",
    "    #    中くらい（例：3000未満）：緑\n",
    "    #    大きい（例：3000以上）：赤\n",
    "  \n",
    "\n",
    "    draw_circle_by_area(200, 200, radius, area)\n",
    "\n",
    "def calculate_circle_area(r):\n",
    "\n",
    "    # 円の面積を計算して返す\n",
    "    # 面積 = π × r²\n",
    "    area = py5.PI * r * r\n",
    "    return area\n",
    "    pass\n",
    "\n",
    "def draw_circle_by_area(x, y, radius, area):\n",
    "    # 面積に応じて色を変えて円を描く\n",
    "    if area < 1000:\n",
    "        py5.fill(0,0,255)\n",
    "    elif area < 3000:\n",
    "        py5.fill(0,255,0)\n",
    "    else:\n",
    "        py5.fill(255,0,0)\n",
    "    py5.ellipse(x, y, radius*2, radius*2)\n",
    "    pass\n",
    "\n",
    "py5.run_sketch()\n"
   ]
  },
  {
   "cell_type": "markdown",
   "id": "4fb63179",
   "metadata": {},
   "source": [
    "### 問5"
   ]
  },
  {
   "cell_type": "code",
   "execution_count": 3,
   "id": "a63b2b0e",
   "metadata": {},
   "outputs": [],
   "source": [
    "import py5\n",
    "\n",
    "def setup():\n",
    "    py5.size(400, 400)\n",
    "\n",
    "def draw():\n",
    "    py5.background(255)\n",
    "\n",
    "    # フレーム数を使って動く円を描く\n",
    "    # moving_circle関数を完成させる\n",
    "    moving_circle(200, 200, py5.frame_count)\n",
    "\n",
    "    # 振動する四角形を描く\n",
    "    vibrating_rect(300, 300, py5.frame_count)\n",
    "\n",
    "def moving_circle(center_x, center_y, time):\n",
    "    # timeを使って円を円周上で動かす\n",
    "    # ヒント：py5.sin()とpy5.cos()を使う\n",
    "    py5.fill(255,0,0)\n",
    "\n",
    "    angle = time * 0.05\n",
    "    x = center_x + py5.cos(angle) * 100\n",
    "    y = center_y + py5.sin(angle) * 100\n",
    "    \n",
    "    py5.ellipse(x,y,30,30)\n",
    "\n",
    "    pass\n",
    "\n",
    "def vibrating_rect(x, y, time):\n",
    "    # timeを使って四角形を振動させる\n",
    "    py5.fill(0,0,225)\n",
    "    offset = 10 * py5.sin(time * 0.1)\n",
    "    py5.rect(x + offset,y,30,30)\n",
    "    pass\n",
    "\n",
    "py5.run_sketch()\n"
   ]
  },
  {
   "cell_type": "markdown",
   "id": "99472b93",
   "metadata": {},
   "source": [
    "### 追加課題"
   ]
  },
  {
   "cell_type": "code",
   "execution_count": 5,
   "id": "c64d437d",
   "metadata": {},
   "outputs": [],
   "source": [
    "import py5\n",
    "\n",
    "def setup():\n",
    "    py5.size(400, 400)\n",
    "    py5.background(255)\n",
    "    draw_pyramid(200, 100, 40, 6)  # 中心X, 開始Y, 間隔, 段数\n",
    "\n",
    "def draw_pyramid(center_x, start_y, spacing, rows):\n",
    "    py5.fill(173, 216, 230)\n",
    "    py5.stroke(0)\n",
    "\n",
    "    radius = spacing * 0.8  # 円のサイズ\n",
    "\n",
    "    for i in range(rows):  # 段ごとにループ（0〜5）\n",
    "        count = i + 1  \n",
    "        y = start_y + i * spacing\n",
    "\n",
    "        # この段の幅を求めて、中央揃えにする\n",
    "        total_width = (count - 1) * spacing\n",
    "        start_x = center_x - total_width / 2\n",
    "\n",
    "        for j in range(count):\n",
    "            x = start_x + j * spacing\n",
    "            py5.circle(x, y, radius)\n",
    "\n",
    "py5.run_sketch()\n"
   ]
  }
 ],
 "metadata": {
  "kernelspec": {
   "display_name": ".venv",
   "language": "python",
   "name": "python3"
  },
  "language_info": {
   "codemirror_mode": {
    "name": "ipython",
    "version": 3
   },
   "file_extension": ".py",
   "mimetype": "text/x-python",
   "name": "python",
   "nbconvert_exporter": "python",
   "pygments_lexer": "ipython3",
   "version": "3.10.11"
  }
 },
 "nbformat": 4,
 "nbformat_minor": 5
}
