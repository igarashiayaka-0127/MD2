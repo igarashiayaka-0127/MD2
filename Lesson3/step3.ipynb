{
 "cells": [
  {
   "cell_type": "code",
   "execution_count": 1,
   "id": "c6124d6f",
   "metadata": {},
   "outputs": [],
   "source": [
    "import pandas as pd\n",
    "import numpy as np\n",
    "from scipy import stats\n",
    "import matplotlib.pyplot as plt\n",
    "\n",
    "# 日本語フォントの設定 macOSの場合\n",
    "plt.rcParams['font.family'] = 'Hiragino Sans'\n",
    "plt.rcParams['axes.unicode_minus'] = False\n",
    "\n",
    "# 警告を無視\n",
    "import warnings\n",
    "warnings.filterwarnings('ignore')"
   ]
  },
  {
   "cell_type": "code",
   "execution_count": null,
   "id": "8b887e80",
   "metadata": {},
   "outputs": [
    {
     "name": "stdout",
     "output_type": "stream",
     "text": [
      "    性別  満足度\n",
      "0   男性    2\n",
      "1   男性    5\n",
      "2   男性    4\n",
      "3   男性    3\n",
      "4   男性    2\n",
      "5   男性    2\n",
      "6   男性    1\n",
      "7   男性    4\n",
      "8   男性    3\n",
      "9   男性    4\n",
      "10  女性    1\n",
      "11  女性    5\n",
      "12  女性    5\n",
      "13  女性    3\n",
      "14  女性    3\n",
      "15  女性    3\n",
      "16  女性    3\n",
      "17  女性    4\n",
      "18  女性    4\n",
      "19  女性    3\n",
      "\n",
      "データの形状: (20, 2)\n"
     ]
    }
   ],
   "source": [
    "# データ作成\n",
    "# 乱数シードの設定とデータフレームの作成\n",
    "# 乱数シードとは、同じ乱数を再現可能にするためのものです。\n",
    "np.random.seed(42) # 何回実行しても同じ乱数が出る\n",
    "data = { #データの変数、内容をていぐ\n",
    "    '性別': ['男性']*10 + ['女性']*10, # 男性と女性を10人ずつ\n",
    "    # np.random.choice()のpパラメータで、各満足度レベルの出現確率を制御している\n",
    "    '満足度': list(np.random.choice([1,2,3,4,5], 10, p=[0.1,0.3,0.3,0.2,0.1])) + # random.choiceの1から5から確率pに基づいて10回ランダムに選ぶ\n",
    "              list(np.random.choice([1,2,3,4,5], 10, p=[0.05,0.1,0.25,0.4,0.2]))# random.choiceの1から5から確率pに基づいて10回ランダムに選ぶ\n",
    "}\n",
    "df = pd.DataFrame(data) # pandasのDataFrameに変換\n",
    "\n",
    "# データの表示\n",
    "print(df) # 中身確認\n",
    "print(\"\\nデータの形状:\", df.shape) # 改行しながらデータを表示"
   ]
  },
  {
   "cell_type": "code",
   "execution_count": null,
   "id": "8bd9ce8f",
   "metadata": {},
   "outputs": [
    {
     "data": {
      "text/html": [
       "<div>\n",
       "<style scoped>\n",
       "    .dataframe tbody tr th:only-of-type {\n",
       "        vertical-align: middle;\n",
       "    }\n",
       "\n",
       "    .dataframe tbody tr th {\n",
       "        vertical-align: top;\n",
       "    }\n",
       "\n",
       "    .dataframe thead th {\n",
       "        text-align: right;\n",
       "    }\n",
       "</style>\n",
       "<table border=\"1\" class=\"dataframe\">\n",
       "  <thead>\n",
       "    <tr style=\"text-align: right;\">\n",
       "      <th></th>\n",
       "      <th>満足度</th>\n",
       "    </tr>\n",
       "  </thead>\n",
       "  <tbody>\n",
       "    <tr>\n",
       "      <th>count</th>\n",
       "      <td>20.000000</td>\n",
       "    </tr>\n",
       "    <tr>\n",
       "      <th>mean</th>\n",
       "      <td>3.200000</td>\n",
       "    </tr>\n",
       "    <tr>\n",
       "      <th>std</th>\n",
       "      <td>1.196486</td>\n",
       "    </tr>\n",
       "    <tr>\n",
       "      <th>min</th>\n",
       "      <td>1.000000</td>\n",
       "    </tr>\n",
       "    <tr>\n",
       "      <th>25%</th>\n",
       "      <td>2.750000</td>\n",
       "    </tr>\n",
       "    <tr>\n",
       "      <th>50%</th>\n",
       "      <td>3.000000</td>\n",
       "    </tr>\n",
       "    <tr>\n",
       "      <th>75%</th>\n",
       "      <td>4.000000</td>\n",
       "    </tr>\n",
       "    <tr>\n",
       "      <th>max</th>\n",
       "      <td>5.000000</td>\n",
       "    </tr>\n",
       "  </tbody>\n",
       "</table>\n",
       "</div>"
      ],
      "text/plain": [
       "             満足度\n",
       "count  20.000000\n",
       "mean    3.200000\n",
       "std     1.196486\n",
       "min     1.000000\n",
       "25%     2.750000\n",
       "50%     3.000000\n",
       "75%     4.000000\n",
       "max     5.000000"
      ]
     },
     "execution_count": 3,
     "metadata": {},
     "output_type": "execute_result"
    }
   ],
   "source": [
    "df.describe()\n",
    "# countはデータの数、\n",
    "# meanは平均値、\n",
    "# stdは標準偏差、\n",
    "# minは最小値、\n",
    "# 25%、50%、75%は四分位数、\n",
    "# maxは最大値を示す。"
   ]
  },
  {
   "cell_type": "code",
   "execution_count": null,
   "id": "3608fcb2",
   "metadata": {},
   "outputs": [
    {
     "name": "stdout",
     "output_type": "stream",
     "text": [
      "\n",
      "満足度の統計情報:\n",
      "count    20.000000\n",
      "mean      3.200000\n",
      "std       1.196486\n",
      "min       1.000000\n",
      "25%       2.750000\n",
      "50%       3.000000\n",
      "75%       4.000000\n",
      "max       5.000000\n",
      "Name: 満足度, dtype: float64\n"
     ]
    }
   ],
   "source": [
    "# 満足度の統計情報の表示\n",
    "print(\"\\n満足度の統計情報:\")\n",
    "# aggとは、指定した統計量を一度に計算するためのメソッド\n",
    "print(df['満足度'].describe())  "
   ]
  },
  {
   "cell_type": "code",
   "execution_count": null,
   "id": "8dde78ea",
   "metadata": {},
   "outputs": [
    {
     "data": {
      "text/plain": [
       "<Figure size 300x200 with 0 Axes>"
      ]
     },
     "metadata": {},
     "output_type": "display_data"
    },
    {
     "data": {
      "image/png": "[encoded data removed]",
      "text/plain": [
       "<Figure size 640x480 with 1 Axes>"
      ]
     },
     "metadata": {},
     "output_type": "display_data"
    }
   ],
   "source": [
    "# データの可視化\n",
    "plt.figure(figsize=(3, 2))\n",
    "\n",
    "# 箱ひげ図\n",
    "df.boxplot(column='満足度', by='性別') # column→縦軸、by→何事に変えるか\n",
    "plt.title('性別ごとの満足度')\n",
    "plt.suptitle('')  # デフォルトのタイトルを削除\n",
    "plt.ylabel('満足度')\n",
    "plt.grid(True, alpha=0.3)\n",
    "plt.show()"
   ]
  },
  {
   "cell_type": "code",
   "execution_count": null,
   "id": "11a8bedf",
   "metadata": {},
   "outputs": [
    {
     "data": {
      "text/html": [
       "<div>\n",
       "<style scoped>\n",
       "    .dataframe tbody tr th:only-of-type {\n",
       "        vertical-align: middle;\n",
       "    }\n",
       "\n",
       "    .dataframe tbody tr th {\n",
       "        vertical-align: top;\n",
       "    }\n",
       "\n",
       "    .dataframe thead th {\n",
       "        text-align: right;\n",
       "    }\n",
       "</style>\n",
       "<table border=\"1\" class=\"dataframe\">\n",
       "  <thead>\n",
       "    <tr style=\"text-align: right;\">\n",
       "      <th></th>\n",
       "      <th>性別</th>\n",
       "      <th>満足度</th>\n",
       "    </tr>\n",
       "  </thead>\n",
       "  <tbody>\n",
       "    <tr>\n",
       "      <th>0</th>\n",
       "      <td>男性</td>\n",
       "      <td>2</td>\n",
       "    </tr>\n",
       "    <tr>\n",
       "      <th>1</th>\n",
       "      <td>男性</td>\n",
       "      <td>5</td>\n",
       "    </tr>\n",
       "    <tr>\n",
       "      <th>2</th>\n",
       "      <td>男性</td>\n",
       "      <td>4</td>\n",
       "    </tr>\n",
       "    <tr>\n",
       "      <th>3</th>\n",
       "      <td>男性</td>\n",
       "      <td>3</td>\n",
       "    </tr>\n",
       "    <tr>\n",
       "      <th>4</th>\n",
       "      <td>男性</td>\n",
       "      <td>2</td>\n",
       "    </tr>\n",
       "    <tr>\n",
       "      <th>5</th>\n",
       "      <td>男性</td>\n",
       "      <td>2</td>\n",
       "    </tr>\n",
       "    <tr>\n",
       "      <th>6</th>\n",
       "      <td>男性</td>\n",
       "      <td>1</td>\n",
       "    </tr>\n",
       "    <tr>\n",
       "      <th>7</th>\n",
       "      <td>男性</td>\n",
       "      <td>4</td>\n",
       "    </tr>\n",
       "    <tr>\n",
       "      <th>8</th>\n",
       "      <td>男性</td>\n",
       "      <td>3</td>\n",
       "    </tr>\n",
       "    <tr>\n",
       "      <th>9</th>\n",
       "      <td>男性</td>\n",
       "      <td>4</td>\n",
       "    </tr>\n",
       "  </tbody>\n",
       "</table>\n",
       "</div>"
      ],
      "text/plain": [
       "   性別  満足度\n",
       "0  男性    2\n",
       "1  男性    5\n",
       "2  男性    4\n",
       "3  男性    3\n",
       "4  男性    2\n",
       "5  男性    2\n",
       "6  男性    1\n",
       "7  男性    4\n",
       "8  男性    3\n",
       "9  男性    4"
      ]
     },
     "execution_count": 11,
     "metadata": {},
     "output_type": "execute_result"
    }
   ],
   "source": [
    "df [df['性別'] == '男性']['満足度']"
   ]
  },
  {
   "cell_type": "code",
   "execution_count": null,
   "id": "f520f26a",
   "metadata": {},
   "outputs": [
    {
     "name": "stdout",
     "output_type": "stream",
     "text": [
      "Mann-Whitney U検定の結果:\n",
      "U統計量: 40.5\n",
      "p値: 0.4819\n",
      "\n",
      "結果の解釈:\n",
      "p >= 0.05: 男女間で満足度に統計的に有意な差はありません。\n"
     ]
    }
   ],
   "source": [
    "# Mann-Whitney U検定\n",
    "male_scores = df[df['性別']=='男性']['満足度']\n",
    "female_scores = df[df['性別']=='女性']['満足度']\n",
    "\n",
    "stat, p_value = stats.mannwhitneyu(male_scores, female_scores, alternative='two-sided')\n",
    "print(f\"Mann-Whitney U検定の結果:\")\n",
    "print(f\"U統計量: {stat}\")\n",
    "print(f\"p値: {p_value:.4f}\")\n",
    "print(f\"\\n結果の解釈:\")\n",
    "if p_value < 0.05:\n",
    "    print(\"p < 0.05: 男女間で満足度に統計的に有意な差があります。\")\n",
    "else:\n",
    "    print(\"p >= 0.05: 男女間で満足度に統計的に有意な差はありません。\")\n",
    "\n",
    "# p値だけレポートに載せるで大丈夫\n",
    "# サンプル数が多いと有意なさが出やすい"
   ]
  },
  {
   "cell_type": "markdown",
   "id": "4bee5c5c",
   "metadata": {},
   "source": [
    "p値とは得られた結果が偶然によるものである確率を表す\n",
    "\n",
    "p値の解釈\n",
    "\n",
    "p < 0.05： 「統計的に有意」と判断します。観測された差や関連が偶然による可能性が低いと考えられます。\n",
    "p ≥ 0.05：「統計的に有意でない」と判断します。観測された差や関連が偶然によるものである可能性を否定できません。\n",
    "\n",
    "効果の大きさを示すものdではない\n",
    "仮説が真である確率ではない\n",
    "\n",
    "何やるか\n",
    "統計処理に関すること\n",
    "何検定に使うのか\n",
    "p値とは"
   ]
  },
  {
   "cell_type": "code",
   "execution_count": 14,
   "id": "839866d9",
   "metadata": {},
   "outputs": [
    {
     "name": "stdout",
     "output_type": "stream",
     "text": [
      "平均: 2.40, 中央値: 2.00, 標準偏差: 0.94\n",
      "授業後の基本統計量:\n",
      "平均: 3.30, 中央値: 3.00, 標準偏差: 1.03\n",
      "検定統計量: 7.5, p値: 0.0005\n"
     ]
    }
   ],
   "source": [
    "# ペアデータの作成\n",
    "np.random.seed(123)\n",
    "n = 20\n",
    "pre_scores = np.random.choice([1,2,3,4,5], n, p=[0.2,0.3,0.3,0.15,0.05])\n",
    "# 授業後は全体的に向上\n",
    "post_scores = np.clip(pre_scores + np.random.choice([-1,0,1,2], n, p=[0.1,0.2,0.5,0.2]), 1, 5)\n",
    "\n",
    "# 授業前と授業後の平均、中央値、標準偏差を計算print(\"授業前の基本統計量:\")\n",
    "print(f\"平均: {np.mean(pre_scores):.2f}, 中央値: {np.median(pre_scores):.2f}, 標準偏差: {np.std(pre_scores, ddof=1):.2f}\")\n",
    "\n",
    "print(\"授業後の基本統計量:\")\n",
    "print(f\"平均: {np.mean(post_scores):.2f}, 中央値: {np.median(post_scores):.2f}, 標準偏差: {np.std(post_scores, ddof=1):.2f}\")\n",
    "\n",
    "df_pair = pd.DataFrame({'事前': pre_scores, '事後': post_scores})\n",
    "\n",
    "# Wilcoxon符号付順位検定\n",
    "stat, p_value = stats.wilcoxon(df_pair['事前'], df_pair['事後'])\n",
    "# 検定統計量とは、Wilcoxon検定で計算される値で、事前と事後の差の順位を基にしています。\n",
    "# この値が大きいほど、事前と事後の差が大きいことを示します。\n",
    "# p値は、検定統計量に基づいて、事前と事後の満足度に有意な差があるかどうかを示します。\n",
    "# 学術論文なら検定統計量を記載、ビジネス報告や日常分析なら省略が一般的です。\n",
    "print(f\"検定統計量: {stat}, p値: {p_value:.4f}\")\n"
   ]
  },
  {
   "cell_type": "code",
   "execution_count": null,
   "id": "3aee1ae6",
   "metadata": {},
   "outputs": [],
   "source": [
    "# 5項目のアンケートデータ\n",
    "items = ['使いやすさ', '機能性', 'デザイン', '速度', '総合評価']\n",
    "pre_data = np.random.choice([1,2,3,4,5], (30, 5))\n",
    "post_data = np.clip(pre_data + np.random.choice([0,1,2], (30, 5), p=[0.3,0.5,0.2]), 1, 5)\n",
    "\n",
    "# 項目ごとに検定for i, item in enumerate(items):\n",
    "    stat, p = stats.wilcoxon(pre_data[:, i], post_data[:, i])\n",
    "    print(f\"{item}: p = {p:.4f}\")\n"
   ]
  }
 ],
 "metadata": {
  "kernelspec": {
   "display_name": ".venv",
   "language": "python",
   "name": "python3"
  },
  "language_info": {
   "codemirror_mode": {
    "name": "ipython",
    "version": 3
   },
   "file_extension": ".py",
   "mimetype": "text/x-python",
   "name": "python",
   "nbconvert_exporter": "python",
   "pygments_lexer": "ipython3",
   "version": "3.12.9"
  }
 },
 "nbformat": 4,
 "nbformat_minor": 5
}
