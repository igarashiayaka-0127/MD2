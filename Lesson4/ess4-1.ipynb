{
 "cells": [
  {
   "cell_type": "markdown",
   "id": "9a9bca39",
   "metadata": {},
   "source": [
    "### 問１"
   ]
  },
  {
   "cell_type": "code",
   "execution_count": null,
   "id": "7137416d",
   "metadata": {},
   "outputs": [],
   "source": [
    "def calculate_sum(numbers):\n",
    "    total = 0 \n",
    "    for num in numbers:\n",
    "        total += num\n",
    "    return total\n",
    "\n",
    "# インデントを揃えた\n",
    "# ❌ 間違い\n",
    "# def calculate_sum(numbers):\n",
    "# total = 0 \n",
    "# for num in numbers:\n",
    "# total += num\n",
    "# return total"
   ]
  },
  {
   "cell_type": "markdown",
   "id": "024a0b2d",
   "metadata": {},
   "source": [
    "### 問2"
   ]
  },
  {
   "cell_type": "code",
   "execution_count": null,
   "id": "faa54bb6",
   "metadata": {},
   "outputs": [],
   "source": [
    "if number % 2 == 0:\n",
    "    print(\"偶数\")\n",
    "\n",
    "# コロンをつけた\n",
    "# ❌ 間違い\n",
    "# if number % 2 == 0\n",
    "#     print(\"偶数\")"
   ]
  },
  {
   "cell_type": "markdown",
   "id": "5a46e8c4",
   "metadata": {},
   "source": [
    "### 問3"
   ]
  },
  {
   "cell_type": "code",
   "execution_count": null,
   "id": "ce90673a",
   "metadata": {},
   "outputs": [
    {
     "name": "stdout",
     "output_type": "stream",
     "text": [
      "年齢は20歳です\n"
     ]
    }
   ],
   "source": [
    "age = 20\n",
    "print(\"年齢は\" + str(age) + \"歳です\")\n",
    "\n",
    "# ageを数値型から文字列型に変換した\n",
    "# ❌ 間違い\n",
    "# age = 20\n",
    "# print(\"年齢は\" + age + \"歳です\")\n"
   ]
  },
  {
   "cell_type": "markdown",
   "id": "46eaa4c8",
   "metadata": {},
   "source": [
    "### 練習問題"
   ]
  },
  {
   "cell_type": "code",
   "execution_count": null,
   "id": "16874b9b",
   "metadata": {},
   "outputs": [
    {
     "name": "stdout",
     "output_type": "stream",
     "text": [
      "15\n",
      "[2, 4, 6]\n"
     ]
    }
   ],
   "source": [
    "# 練習1: リストの合計を計算する関数\n",
    "def sum_list(numbers):\n",
    "    total = 0\n",
    "    for num in numbers:\n",
    "        total += num\n",
    "    return total\n",
    "\n",
    "# totalという変数にリストの数値を加算していく\n",
    "\n",
    "# テスト\n",
    "print(sum_list([1, 2, 3, 4, 5]))  # 15が出力されるはず\n",
    "\n",
    "# 練習2: 偶数だけを抽出する関数\n",
    "def get_even_numbers(numbers):\n",
    "    even_list =[]\n",
    "    for num in numbers:\n",
    "        if num % 2 == 0:\n",
    "            even_list.append(num)\n",
    "    return even_list\n",
    "\n",
    "# リストを作成し、その中に偶数を追加していく'append'は追加\n",
    "# テスト\n",
    "print(get_even_numbers([1, 2, 3, 4, 5, 6]))  # [2, 4, 6]が出力されるはず\n",
    "\n",
    "\n",
    "## 練習1: リストの合計を計算する関数\n",
    "# def sum_list(numbers):\n",
    "#     # ここにコードを書く\n",
    "#     pass\n",
    "\n",
    "# # テスト\n",
    "# print(sum_list([1, 2, 3, 4, 5]))  # 15が出力されるはず\n",
    "\n",
    "# # 練習2: 偶数だけを抽出する関数\n",
    "# def get_even_numbers(numbers):\n",
    "#     # ここにコードを書く\n",
    "#     pass\n",
    "\n",
    "# # テスト\n",
    "# print(get_even_numbers([1, 2, 3, 4, 5, 6]))  # [2, 4, 6]が出力されるはず\n",
    "\n"
   ]
  }
 ],
 "metadata": {
  "kernelspec": {
   "display_name": ".venv",
   "language": "python",
   "name": "python3"
  },
  "language_info": {
   "codemirror_mode": {
    "name": "ipython",
    "version": 3
   },
   "file_extension": ".py",
   "mimetype": "text/x-python",
   "name": "python",
   "nbconvert_exporter": "python",
   "pygments_lexer": "ipython3",
   "version": "3.12.9"
  }
 },
 "nbformat": 4,
 "nbformat_minor": 5
}
