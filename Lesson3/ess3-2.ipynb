{
 "cells": [
  {
   "cell_type": "code",
   "execution_count": 1,
   "id": "7fed917b",
   "metadata": {},
   "outputs": [],
   "source": [
    "import pandas as pd\n",
    "import numpy as np\n",
    "from scipy import stats\n",
    "import matplotlib.pyplot as plt\n",
    "\n",
    "# 日本語フォントの設定 macOSの場合\n",
    "plt.rcParams['font.family'] = 'Hiragino Sans'\n",
    "plt.rcParams['axes.unicode_minus'] = False\n",
    "\n",
    "# 警告を無視\n",
    "import warnings\n",
    "warnings.filterwarnings('ignore')"
   ]
  },
  {
   "cell_type": "code",
   "execution_count": 2,
   "id": "98c88d64",
   "metadata": {},
   "outputs": [
    {
     "name": "stdout",
     "output_type": "stream",
     "text": [
      "   受講前後  自信度\n",
      "0   受講前    2\n",
      "1   受講前    1\n",
      "2   受講前    3\n",
      "3   受講前    2\n",
      "4   受講前    2\n",
      "5   受講前    3\n",
      "6   受講前    1\n",
      "7   受講前    2\n",
      "8   受講前    3\n",
      "9   受講前    2\n",
      "10  受講前    1\n",
      "11  受講前    3\n",
      "12  受講前    2\n",
      "13  受講前    2\n",
      "14  受講前    3\n",
      "15  受講後    3\n",
      "16  受講後    3\n",
      "17  受講後    4\n",
      "18  受講後    3\n",
      "19  受講後    4\n",
      "20  受講後    4\n",
      "21  受講後    2\n",
      "22  受講後    3\n",
      "23  受講後    5\n",
      "24  受講後    3\n",
      "25  受講後    3\n",
      "26  受講後    4\n",
      "27  受講後    4\n",
      "28  受講後    3\n",
      "29  受講後    4\n",
      "\n",
      "データの形状: (30, 2)\n"
     ]
    }
   ],
   "source": [
    "# データ作成\n",
    "data = { #データの変数、内容を定義\n",
    "    '受講前後': ['受講前']*15 + ['受講後']*15, # 前と後を15人ずつ\n",
    "    '自信度': [2, 1, 3, 2, 2, 3, 1, 2, 3, 2, 1, 3, 2, 2, 3, 3, 3, 4, 3, 4, 4, 2, 3, 5, 3, 3, 4, 4, 3, 4]\n",
    "}\n",
    "df = pd.DataFrame(data) # pandasのDataFrameに変換\n",
    "\n",
    "# データの表示\n",
    "print(df) # 中身確認\n",
    "print(\"\\nデータの形状:\", df.shape) # 改行しながらデータを表示"
   ]
  },
  {
   "cell_type": "code",
   "execution_count": 3,
   "id": "93d48c82",
   "metadata": {},
   "outputs": [
    {
     "data": {
      "text/html": [
       "<div>\n",
       "<style scoped>\n",
       "    .dataframe tbody tr th:only-of-type {\n",
       "        vertical-align: middle;\n",
       "    }\n",
       "\n",
       "    .dataframe tbody tr th {\n",
       "        vertical-align: top;\n",
       "    }\n",
       "\n",
       "    .dataframe thead th {\n",
       "        text-align: right;\n",
       "    }\n",
       "</style>\n",
       "<table border=\"1\" class=\"dataframe\">\n",
       "  <thead>\n",
       "    <tr style=\"text-align: right;\">\n",
       "      <th></th>\n",
       "      <th>自信度</th>\n",
       "    </tr>\n",
       "  </thead>\n",
       "  <tbody>\n",
       "    <tr>\n",
       "      <th>count</th>\n",
       "      <td>30.000000</td>\n",
       "    </tr>\n",
       "    <tr>\n",
       "      <th>mean</th>\n",
       "      <td>2.800000</td>\n",
       "    </tr>\n",
       "    <tr>\n",
       "      <th>std</th>\n",
       "      <td>0.996546</td>\n",
       "    </tr>\n",
       "    <tr>\n",
       "      <th>min</th>\n",
       "      <td>1.000000</td>\n",
       "    </tr>\n",
       "    <tr>\n",
       "      <th>25%</th>\n",
       "      <td>2.000000</td>\n",
       "    </tr>\n",
       "    <tr>\n",
       "      <th>50%</th>\n",
       "      <td>3.000000</td>\n",
       "    </tr>\n",
       "    <tr>\n",
       "      <th>75%</th>\n",
       "      <td>3.000000</td>\n",
       "    </tr>\n",
       "    <tr>\n",
       "      <th>max</th>\n",
       "      <td>5.000000</td>\n",
       "    </tr>\n",
       "  </tbody>\n",
       "</table>\n",
       "</div>"
      ],
      "text/plain": [
       "             自信度\n",
       "count  30.000000\n",
       "mean    2.800000\n",
       "std     0.996546\n",
       "min     1.000000\n",
       "25%     2.000000\n",
       "50%     3.000000\n",
       "75%     3.000000\n",
       "max     5.000000"
      ]
     },
     "execution_count": 3,
     "metadata": {},
     "output_type": "execute_result"
    }
   ],
   "source": [
    "df.describe()"
   ]
  },
  {
   "cell_type": "code",
   "execution_count": 4,
   "id": "d6bb921f",
   "metadata": {},
   "outputs": [
    {
     "data": {
      "text/plain": [
       "<Figure size 300x200 with 0 Axes>"
      ]
     },
     "metadata": {},
     "output_type": "display_data"
    },
    {
     "data": {
      "image/png": "[encoded data removed]",
      "text/plain": [
       "<Figure size 640x480 with 1 Axes>"
      ]
     },
     "metadata": {},
     "output_type": "display_data"
    }
   ],
   "source": [
    "# データの可視化\n",
    "plt.figure(figsize=(3, 2))\n",
    "\n",
    "# 箱ひげ図\n",
    "df.boxplot(column='自信度', by='受講前後') # column→縦軸、by→何事に変えるか\n",
    "plt.title('受講前後の自信度の比較')  # タイトルを設定\n",
    "plt.suptitle('')  # デフォルトのタイトルを削除\n",
    "plt.ylabel('自信度')  # y軸のラベルを設定\n",
    "plt.grid(True, alpha=0.3)\n",
    "plt.show()"
   ]
  },
  {
   "cell_type": "code",
   "execution_count": 5,
   "id": "b65ff2cc",
   "metadata": {},
   "outputs": [
    {
     "name": "stdout",
     "output_type": "stream",
     "text": [
      "Mann-Whitney U検定の結果:\n",
      "U統計量: 26.0\n",
      "p値: 0.0002\n",
      "\n",
      "結果の解釈:\n",
      "p < 0.05: 受験前、受験後で自信度に統計的に有意な差があります。\n"
     ]
    }
   ],
   "source": [
    "# Mann-Whitney U検定\n",
    "twenty_scores = df[df['受講前後']=='受講前']['自信度']\n",
    "forty_scores = df[df['受講前後']=='受講後']['自信度']\n",
    "\n",
    "stat, p_value = stats.mannwhitneyu(twenty_scores, forty_scores, alternative='two-sided')\n",
    "print(f\"Mann-Whitney U検定の結果:\")\n",
    "print(f\"U統計量: {stat}\")\n",
    "print(f\"p値: {p_value:.4f}\")\n",
    "print(f\"\\n結果の解釈:\")\n",
    "if p_value < 0.05:\n",
    "    print(\"p < 0.05: 受験前、受験後で自信度に統計的に有意な差があります。\")\n",
    "else:\n",
    "    print(\"p >= 0.05: 受験前、受験後で評価に統計的に有意な差はありません。\")\n",
    "\n",
    "# p値だけレポートに載せるで大丈夫\n",
    "# サンプル数が多いと有意なさが出やすい"
   ]
  }
 ],
 "metadata": {
  "kernelspec": {
   "display_name": ".venv",
   "language": "python",
   "name": "python3"
  },
  "language_info": {
   "codemirror_mode": {
    "name": "ipython",
    "version": 3
   },
   "file_extension": ".py",
   "mimetype": "text/x-python",
   "name": "python",
   "nbconvert_exporter": "python",
   "pygments_lexer": "ipython3",
   "version": "3.12.9"
  }
 },
 "nbformat": 4,
 "nbformat_minor": 5
}
