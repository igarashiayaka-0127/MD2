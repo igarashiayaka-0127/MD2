{
 "cells": [
  {
   "cell_type": "code",
   "execution_count": 1,
   "id": "81105999",
   "metadata": {},
   "outputs": [
    {
     "name": "stdout",
     "output_type": "stream",
     "text": [
      "快適\n"
     ]
    }
   ],
   "source": [
    "temperature = 25\n",
    "if temperature >= 30:\n",
    "    print(\"暑い\")\n",
    "elif temperature >= 10:\n",
    "    print(\"快適\")\n",
    "else:\n",
    "    print(\"寒い\")"
   ]
  },
  {
   "cell_type": "code",
   "execution_count": 2,
   "id": "bd8bac6c",
   "metadata": {},
   "outputs": [
    {
     "name": "stdout",
     "output_type": "stream",
     "text": [
      "86.6\n"
     ]
    }
   ],
   "source": [
    "scores = [85, 90, 78, 92, 88]\n",
    "scores_average = sum(scores) / len(scores)\n",
    "print(scores_average )"
   ]
  },
  {
   "cell_type": "code",
   "execution_count": 4,
   "id": "96654f86",
   "metadata": {},
   "outputs": [
    {
     "name": "stdout",
     "output_type": "stream",
     "text": [
      "3\n",
      "6\n",
      "9\n",
      "12\n",
      "15\n",
      "18\n"
     ]
    }
   ],
   "source": [
    "for i in range(3,21,3):\n",
    "\tprint(i)"
   ]
  },
  {
   "cell_type": "code",
   "execution_count": null,
   "id": "26d5e974",
   "metadata": {},
   "outputs": [],
   "source": [
    "def is_palindrome(text):\n",
    "\tif text = text[::-1]:\n",
    "\t\tans = True\n",
    "\telse:\n",
    "\t\tans = False\n",
    "\t\treturn ans\n",
    "\n",
    "print(is_palindrome(\"level\"))    # True\n",
    "print(is_palindrome(\"python\"))   # False\n",
    "\n",
    "\n",
    "\"\"\"\n",
    "[::]→文字列全部\n",
    "[:1]→二つ目まで\n",
    "[::2]→飛ばし飛ばしで\n",
    "[::-1]→逆順\n",
    "\"\"\"\n"
   ]
  }
 ],
 "metadata": {
  "kernelspec": {
   "display_name": ".venv",
   "language": "python",
   "name": "python3"
  },
  "language_info": {
   "codemirror_mode": {
    "name": "ipython",
    "version": 3
   },
   "file_extension": ".py",
   "mimetype": "text/x-python",
   "name": "python",
   "nbconvert_exporter": "python",
   "pygments_lexer": "ipython3",
   "version": "3.12.9"
  }
 },
 "nbformat": 4,
 "nbformat_minor": 5
}
