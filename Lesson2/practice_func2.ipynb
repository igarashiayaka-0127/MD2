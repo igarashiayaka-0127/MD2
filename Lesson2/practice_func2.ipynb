{
 "cells": [
  {
   "cell_type": "markdown",
   "id": "99074efe",
   "metadata": {},
   "source": [
    "### 追加課題"
   ]
  },
  {
   "cell_type": "code",
   "execution_count": null,
   "id": "00edb981",
   "metadata": {},
   "outputs": [],
   "source": [
    "import py5\n",
    "\n",
    "def setup():\n",
    "    py5.size(400, 400)\n",
    "    py5.background(255)\n",
    "    draw_pyramid(200, 100, 40, 6)  # 中心X, 開始Y, 間隔, 段数\n",
    "\n",
    "def draw_pyramid(center_x, start_y, spacing, rows):\n",
    "    py5.fill(173, 216, 230)\n",
    "    py5.stroke(0)\n",
    "\n",
    "    radius = spacing * 0.8  # 円のサイズ\n",
    "\n",
    "    for i in range(rows):  # 段ごとにループ（0〜5）\n",
    "        count = i + 1  \n",
    "        y = start_y + i * spacing\n",
    "\n",
    "        # この段の幅を求めて、中央揃えにする\n",
    "        total_width = (count - 1) * spacing\n",
    "        start_x = center_x - total_width / 2\n",
    "\n",
    "        for j in range(count):\n",
    "            x = start_x + j * spacing\n",
    "            py5.circle(x, y, radius)\n",
    "\n",
    "py5.run_sketch()\n"
   ]
  }
 ],
 "metadata": {
  "kernelspec": {
   "display_name": ".venv",
   "language": "python",
   "name": "python3"
  },
  "language_info": {
   "codemirror_mode": {
    "name": "ipython",
    "version": 3
   },
   "file_extension": ".py",
   "mimetype": "text/x-python",
   "name": "python",
   "nbconvert_exporter": "python",
   "pygments_lexer": "ipython3",
   "version": "3.10.11"
  }
 },
 "nbformat": 4,
 "nbformat_minor": 5
}
