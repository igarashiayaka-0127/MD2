{
 "cells": [
  {
   "cell_type": "code",
   "execution_count": 1,
   "id": "7a4bd590",
   "metadata": {},
   "outputs": [],
   "source": [
    "import pandas as pd\n",
    "import numpy as np\n",
    "from scipy import stats\n",
    "import matplotlib.pyplot as plt\n",
    "\n",
    "# 日本語フォントの設定 macOSの場合\n",
    "plt.rcParams['font.family'] = 'Hiragino Sans'\n",
    "plt.rcParams['axes.unicode_minus'] = False\n",
    "\n",
    "# 警告を無視\n",
    "import warnings\n",
    "warnings.filterwarnings('ignore')"
   ]
  },
  {
   "cell_type": "code",
   "execution_count": null,
   "id": "691f7cfc",
   "metadata": {},
   "outputs": [
    {
     "name": "stdout",
     "output_type": "stream",
     "text": [
      "     年代  評価\n",
      "0   20代   4\n",
      "1   20代   5\n",
      "2   20代   4\n",
      "3   20代   3\n",
      "4   20代   5\n",
      "5   20代   4\n",
      "6   20代   4\n",
      "7   20代   5\n",
      "8   20代   3\n",
      "9   20代   4\n",
      "10  40代   2\n",
      "11  40代   3\n",
      "12  40代   3\n",
      "13  40代   2\n",
      "14  40代   4\n",
      "15  40代   3\n",
      "16  40代   2\n",
      "17  40代   3\n",
      "18  40代   3\n",
      "19  40代   2\n",
      "\n",
      "データの形状: (20, 2)\n"
     ]
    }
   ],
   "source": [
    "# データ作成\n",
    "data = { #データの変数、内容を定義\n",
    "    '年代': ['20代']*10 + ['40代']*10, # 20代、40代、10人ずつ\n",
    "    '評価': [4, 5, 4, 3, 5, 4, 4, 5, 3, 4, 2, 3, 3, 2, 4, 3, 2, 3, 3, 2]\n",
    "}\n",
    "df = pd.DataFrame(data) # pandasのDataFrameに変換\n",
    "\n",
    "# データの表示\n",
    "print(df) # 中身確認\n",
    "print(\"\\nデータの形状:\", df.shape) # 改行しながらデータを表示"
   ]
  },
  {
   "cell_type": "code",
   "execution_count": 3,
   "id": "0cae74fc",
   "metadata": {},
   "outputs": [
    {
     "data": {
      "text/html": [
       "<div>\n",
       "<style scoped>\n",
       "    .dataframe tbody tr th:only-of-type {\n",
       "        vertical-align: middle;\n",
       "    }\n",
       "\n",
       "    .dataframe tbody tr th {\n",
       "        vertical-align: top;\n",
       "    }\n",
       "\n",
       "    .dataframe thead th {\n",
       "        text-align: right;\n",
       "    }\n",
       "</style>\n",
       "<table border=\"1\" class=\"dataframe\">\n",
       "  <thead>\n",
       "    <tr style=\"text-align: right;\">\n",
       "      <th></th>\n",
       "      <th>満足度</th>\n",
       "    </tr>\n",
       "  </thead>\n",
       "  <tbody>\n",
       "    <tr>\n",
       "      <th>count</th>\n",
       "      <td>20.000000</td>\n",
       "    </tr>\n",
       "    <tr>\n",
       "      <th>mean</th>\n",
       "      <td>3.400000</td>\n",
       "    </tr>\n",
       "    <tr>\n",
       "      <th>std</th>\n",
       "      <td>0.994723</td>\n",
       "    </tr>\n",
       "    <tr>\n",
       "      <th>min</th>\n",
       "      <td>2.000000</td>\n",
       "    </tr>\n",
       "    <tr>\n",
       "      <th>25%</th>\n",
       "      <td>3.000000</td>\n",
       "    </tr>\n",
       "    <tr>\n",
       "      <th>50%</th>\n",
       "      <td>3.000000</td>\n",
       "    </tr>\n",
       "    <tr>\n",
       "      <th>75%</th>\n",
       "      <td>4.000000</td>\n",
       "    </tr>\n",
       "    <tr>\n",
       "      <th>max</th>\n",
       "      <td>5.000000</td>\n",
       "    </tr>\n",
       "  </tbody>\n",
       "</table>\n",
       "</div>"
      ],
      "text/plain": [
       "             満足度\n",
       "count  20.000000\n",
       "mean    3.400000\n",
       "std     0.994723\n",
       "min     2.000000\n",
       "25%     3.000000\n",
       "50%     3.000000\n",
       "75%     4.000000\n",
       "max     5.000000"
      ]
     },
     "execution_count": 3,
     "metadata": {},
     "output_type": "execute_result"
    }
   ],
   "source": [
    "df.describe()"
   ]
  },
  {
   "cell_type": "code",
   "execution_count": null,
   "id": "c5a33584",
   "metadata": {},
   "outputs": [
    {
     "data": {
      "text/plain": [
       "<Figure size 300x200 with 0 Axes>"
      ]
     },
     "metadata": {},
     "output_type": "display_data"
    },
    {
     "data": {
      "image/png": "[encoded data removed]",
      "text/plain": [
       "<Figure size 640x480 with 1 Axes>"
      ]
     },
     "metadata": {},
     "output_type": "display_data"
    }
   ],
   "source": [
    "# データの可視化\n",
    "plt.figure(figsize=(3, 2))\n",
    "\n",
    "# 箱ひげ図\n",
    "df.boxplot(column='評価', by='年代') # column→縦軸、by→何に変えるか\n",
    "plt.title('年代ごとの評価')\n",
    "plt.suptitle('')  # デフォルトのタイトルを削除\n",
    "plt.ylabel('評価')\n",
    "plt.grid(True, alpha=0.3)\n",
    "plt.show()"
   ]
  },
  {
   "cell_type": "code",
   "execution_count": 8,
   "id": "4bda098e",
   "metadata": {},
   "outputs": [
    {
     "name": "stdout",
     "output_type": "stream",
     "text": [
      "Mann-Whitney U検定の結果:\n",
      "U統計量: 90.5\n",
      "p値: 0.0016\n",
      "\n",
      "結果の解釈:\n",
      "p < 0.05: 20代、40代で評価に統計的に有意な差があります。\n"
     ]
    }
   ],
   "source": [
    "# Mann-Whitney U検定\n",
    "twenty_scores = df[df['年代']=='20代']['評価']\n",
    "forty_scores = df[df['年代']=='40代']['評価']\n",
    "\n",
    "stat, p_value = stats.mannwhitneyu(twenty_scores, forty_scores, alternative='two-sided')\n",
    "print(f\"Mann-Whitney U検定の結果:\")\n",
    "print(f\"U統計量: {stat}\")\n",
    "print(f\"p値: {p_value:.4f}\")\n",
    "print(f\"\\n結果の解釈:\")\n",
    "if p_value < 0.05:\n",
    "    print(\"p < 0.05: 20代、40代で評価に統計的に有意な差があります。\")\n",
    "else:\n",
    "    print(\"p >= 0.05: 20代、40代で評価に統計的に有意な差はありません。\")\n",
    "\n",
    "# p値だけレポートに載せるで大丈夫\n",
    "# サンプル数が多いと有意なさが出やすい"
   ]
  }
 ],
 "metadata": {
  "kernelspec": {
   "display_name": ".venv",
   "language": "python",
   "name": "python3"
  },
  "language_info": {
   "codemirror_mode": {
    "name": "ipython",
    "version": 3
   },
   "file_extension": ".py",
   "mimetype": "text/x-python",
   "name": "python",
   "nbconvert_exporter": "python",
   "pygments_lexer": "ipython3",
   "version": "3.12.9"
  }
 },
 "nbformat": 4,
 "nbformat_minor": 5
}
