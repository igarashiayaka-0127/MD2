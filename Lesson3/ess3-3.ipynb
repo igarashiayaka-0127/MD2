{
 "cells": [
  {
   "cell_type": "code",
   "execution_count": 1,
   "id": "37bed104",
   "metadata": {},
   "outputs": [],
   "source": [
    "import pandas as pd\n",
    "import numpy as np\n",
    "from scipy import stats\n",
    "import matplotlib.pyplot as plt\n",
    "\n",
    "# 日本語フォントの設定 macOSの場合\n",
    "plt.rcParams['font.family'] = 'Hiragino Sans'\n",
    "plt.rcParams['axes.unicode_minus'] = False\n",
    "\n",
    "# 警告を無視\n",
    "import warnings\n",
    "warnings.filterwarnings('ignore')"
   ]
  },
  {
   "cell_type": "markdown",
   "id": "2ab45180",
   "metadata": {},
   "source": [
    "### 外交的・内向的,SNS利用時間"
   ]
  },
  {
   "cell_type": "code",
   "execution_count": 28,
   "id": "85e3fef7",
   "metadata": {},
   "outputs": [
    {
     "name": "stdout",
     "output_type": "stream",
     "text": [
      "     性格  SNS利用時間\n",
      "0   外交的        8\n",
      "1   外交的        6\n",
      "2   外交的        4\n",
      "3   外交的        2\n",
      "4   外交的        6\n",
      "5   外交的        6\n",
      "6   外交的        4\n",
      "7   外交的        4\n",
      "8   外交的        2\n",
      "9   外交的        2\n",
      "10  外交的        4\n",
      "11  外交的        4\n",
      "12  外交的        2\n",
      "13  外交的        8\n",
      "14  外交的        6\n",
      "15  外交的        4\n",
      "16  外交的        6\n",
      "17  外交的        4\n",
      "18  外交的        4\n",
      "19  外交的        4\n",
      "20  外交的        2\n",
      "21  外交的        2\n",
      "22  内向的        8\n",
      "23  内向的        6\n",
      "24  内向的        0\n",
      "25  内向的        6\n",
      "26  内向的        2\n",
      "27  内向的        0\n",
      "28  内向的        0\n",
      "29  内向的        8\n",
      "30  内向的        6\n",
      "31  内向的        6\n",
      "32  内向的        4\n",
      "33  内向的        4\n",
      "34  内向的        4\n",
      "35  内向的        0\n",
      "36  内向的        0\n",
      "37  内向的        4\n",
      "38  内向的        4\n",
      "39  内向的        2\n",
      "40  内向的        4\n",
      "41  内向的        8\n",
      "42  内向的        8\n",
      "43  内向的        6\n",
      "44  内向的        2\n",
      "45  内向的        6\n",
      "46  内向的        6\n",
      "47  内向的        2\n",
      "48  内向的        4\n",
      "49  内向的        2\n",
      "50  内向的        8\n",
      "51  内向的        6\n",
      "52  内向的        8\n",
      "\n",
      "データの形状: (53, 2)\n"
     ]
    }
   ],
   "source": [
    "# データ作成\n",
    "data = { #データの変数、内容を定義\n",
    "    '性格': ['外交的']*22 + ['内向的']*31, # 外交的と内向的、22人と31人\n",
    "    'SNS利用時間': [8,6,4,2,6,6,4,4,2,2,4,4,2,8,6,4,6,4,4,4,2,2,8,6,0,6,2,0,0,8,6,6,4,4,4,0,0,4,4,2,4,8,8,6,2,6,6,2,4,2,8,6,8]\n",
    "}\n",
    "df = pd.DataFrame(data) # pandasのDataFrameに変換\n",
    "\n",
    "# データの表示\n",
    "print(df) # 中身確認\n",
    "print(\"\\nデータの形状:\", df.shape) # 改行しながらデータを表示"
   ]
  },
  {
   "cell_type": "code",
   "execution_count": 29,
   "id": "2468087d",
   "metadata": {},
   "outputs": [
    {
     "data": {
      "text/html": [
       "<div>\n",
       "<style scoped>\n",
       "    .dataframe tbody tr th:only-of-type {\n",
       "        vertical-align: middle;\n",
       "    }\n",
       "\n",
       "    .dataframe tbody tr th {\n",
       "        vertical-align: top;\n",
       "    }\n",
       "\n",
       "    .dataframe thead th {\n",
       "        text-align: right;\n",
       "    }\n",
       "</style>\n",
       "<table border=\"1\" class=\"dataframe\">\n",
       "  <thead>\n",
       "    <tr style=\"text-align: right;\">\n",
       "      <th></th>\n",
       "      <th>SNS利用時間</th>\n",
       "    </tr>\n",
       "  </thead>\n",
       "  <tbody>\n",
       "    <tr>\n",
       "      <th>count</th>\n",
       "      <td>53.000000</td>\n",
       "    </tr>\n",
       "    <tr>\n",
       "      <th>mean</th>\n",
       "      <td>4.301887</td>\n",
       "    </tr>\n",
       "    <tr>\n",
       "      <th>std</th>\n",
       "      <td>2.398597</td>\n",
       "    </tr>\n",
       "    <tr>\n",
       "      <th>min</th>\n",
       "      <td>0.000000</td>\n",
       "    </tr>\n",
       "    <tr>\n",
       "      <th>25%</th>\n",
       "      <td>2.000000</td>\n",
       "    </tr>\n",
       "    <tr>\n",
       "      <th>50%</th>\n",
       "      <td>4.000000</td>\n",
       "    </tr>\n",
       "    <tr>\n",
       "      <th>75%</th>\n",
       "      <td>6.000000</td>\n",
       "    </tr>\n",
       "    <tr>\n",
       "      <th>max</th>\n",
       "      <td>8.000000</td>\n",
       "    </tr>\n",
       "  </tbody>\n",
       "</table>\n",
       "</div>"
      ],
      "text/plain": [
       "         SNS利用時間\n",
       "count  53.000000\n",
       "mean    4.301887\n",
       "std     2.398597\n",
       "min     0.000000\n",
       "25%     2.000000\n",
       "50%     4.000000\n",
       "75%     6.000000\n",
       "max     8.000000"
      ]
     },
     "execution_count": 29,
     "metadata": {},
     "output_type": "execute_result"
    }
   ],
   "source": [
    "df.describe() # データの統計量を表示"
   ]
  },
  {
   "cell_type": "code",
   "execution_count": 30,
   "id": "852b81e0",
   "metadata": {},
   "outputs": [
    {
     "data": {
      "text/plain": [
       "<Figure size 300x200 with 0 Axes>"
      ]
     },
     "metadata": {},
     "output_type": "display_data"
    },
    {
     "data": {
      "image/png": "[encoded data removed]",
      "text/plain": [
       "<Figure size 640x480 with 1 Axes>"
      ]
     },
     "metadata": {},
     "output_type": "display_data"
    }
   ],
   "source": [
    "# データの可視化\n",
    "plt.figure(figsize=(3, 2))\n",
    "\n",
    "# 箱ひげ図\n",
    "df.boxplot(column='SNS利用時間', by='性格') # column→縦軸、by→何に変えるか\n",
    "plt.title('性格ごとのSNSの利用時間の分布')\n",
    "plt.suptitle('')  # デフォルトのタイトルを削除\n",
    "plt.ylabel('SNS利用時間')\n",
    "plt.grid(True, alpha=0.3)\n",
    "plt.show()"
   ]
  },
  {
   "cell_type": "code",
   "execution_count": 31,
   "id": "932354c0",
   "metadata": {},
   "outputs": [
    {
     "name": "stdout",
     "output_type": "stream",
     "text": [
      "Mann-Whitney U検定の結果:\n",
      "U統計量: 327.5\n",
      "p値: 0.8092\n",
      "\n",
      "結果の解釈:\n",
      "p >= 0.05: 外交的，内向的でSNS利用時間に統計的に有意な差はありません．\n"
     ]
    }
   ],
   "source": [
    "# Mann-Whitney U検定\n",
    "twenty_scores = df[df['性格']=='外交的']['SNS利用時間']\n",
    "forty_scores = df[df['性格']=='内向的']['SNS利用時間']\n",
    "\n",
    "stat, p_value = stats.mannwhitneyu(twenty_scores, forty_scores, alternative='two-sided')\n",
    "print(f\"Mann-Whitney U検定の結果:\")\n",
    "print(f\"U統計量: {stat}\")\n",
    "print(f\"p値: {p_value:.4f}\")\n",
    "print(f\"\\n結果の解釈:\")\n",
    "if p_value < 0.05:\n",
    "    print(\"p < 0.05: 外交的，内向的でSNS利用時間に統計的に有意な差があります．\")\n",
    "else:\n",
    "    print(\"p >= 0.05: 外交的，内向的でSNS利用時間に統計的に有意な差はありません．\")\n",
    "\n",
    "# p値だけレポートに載せるで大丈夫\n",
    "# サンプル数が多いと有意なさが出やすい"
   ]
  },
  {
   "cell_type": "markdown",
   "id": "a2b71a0f",
   "metadata": {},
   "source": [
    "### 付き合っているかどうか,SNS利用時間"
   ]
  },
  {
   "cell_type": "code",
   "execution_count": 20,
   "id": "bdfd7252",
   "metadata": {},
   "outputs": [
    {
     "name": "stdout",
     "output_type": "stream",
     "text": [
      "   交際しているかどうか  SNS利用時間\n",
      "0          はい        6\n",
      "1          はい        4\n",
      "2          はい        4\n",
      "3          はい        2\n",
      "4          はい        2\n",
      "5          はい        4\n",
      "6          はい        4\n",
      "7          はい        2\n",
      "8          はい        8\n",
      "9          はい        6\n",
      "10         はい        4\n",
      "11         はい        6\n",
      "12         はい        4\n",
      "13         はい        4\n",
      "14        いいえ        4\n",
      "15        いいえ        2\n",
      "16        いいえ        2\n",
      "17        いいえ        2\n",
      "18        いいえ        0\n",
      "19        いいえ        0\n",
      "20        いいえ        8\n",
      "21        いいえ        6\n",
      "22        いいえ        6\n",
      "23        いいえ        4\n",
      "24        いいえ        4\n",
      "25        いいえ        4\n",
      "26        いいえ        0\n",
      "27        いいえ        0\n",
      "28        いいえ        4\n",
      "29        いいえ        4\n",
      "30        いいえ        2\n",
      "31        いいえ        4\n",
      "32        いいえ        6\n",
      "33        いいえ        6\n",
      "34        いいえ        2\n",
      "35        いいえ        4\n",
      "36        いいえ        2\n",
      "37        いいえ        8\n",
      "38        いいえ        6\n",
      "39        いいえ        8\n",
      "40        いいえ        6\n",
      "41        いいえ        4\n",
      "42        いいえ        2\n",
      "43        いいえ        6\n",
      "44        いいえ        8\n",
      "45        いいえ        6\n",
      "46        いいえ        0\n",
      "47        いいえ        6\n",
      "48        いいえ        8\n",
      "49        いいえ        8\n",
      "50        いいえ        6\n",
      "51        いいえ        2\n",
      "52        いいえ        8\n",
      "\n",
      "データの形状: (53, 2)\n"
     ]
    }
   ],
   "source": [
    "# データ作成\n",
    "data = { #データの変数、内容を定義\n",
    "    '交際しているかどうか': ['はい']*14 + ['いいえ']*39, # 外交的と内向的、22人と31人\n",
    "    'SNS利用時間': [6,4,4,2,2,4,4,2,8,6,4,6,4,4,4,2,2,2,0,0,8,6,6,4,4,4,0,0,4,4,2,4,6,6,2,4,2,8,6,8,6,4,2,6,8,6,0,6,8,8,6,2,8]\n",
    "}\n",
    "df = pd.DataFrame(data) # pandasのDataFrameに変換\n",
    "\n",
    "# データの表示\n",
    "print(df) # 中身確認\n",
    "print(\"\\nデータの形状:\", df.shape) # 改行しながらデータを表示"
   ]
  },
  {
   "cell_type": "code",
   "execution_count": 11,
   "id": "bf5138fc",
   "metadata": {},
   "outputs": [
    {
     "data": {
      "text/html": [
       "<div>\n",
       "<style scoped>\n",
       "    .dataframe tbody tr th:only-of-type {\n",
       "        vertical-align: middle;\n",
       "    }\n",
       "\n",
       "    .dataframe tbody tr th {\n",
       "        vertical-align: top;\n",
       "    }\n",
       "\n",
       "    .dataframe thead th {\n",
       "        text-align: right;\n",
       "    }\n",
       "</style>\n",
       "<table border=\"1\" class=\"dataframe\">\n",
       "  <thead>\n",
       "    <tr style=\"text-align: right;\">\n",
       "      <th></th>\n",
       "      <th>SNS利用時間</th>\n",
       "    </tr>\n",
       "  </thead>\n",
       "  <tbody>\n",
       "    <tr>\n",
       "      <th>count</th>\n",
       "      <td>53.000000</td>\n",
       "    </tr>\n",
       "    <tr>\n",
       "      <th>mean</th>\n",
       "      <td>4.301887</td>\n",
       "    </tr>\n",
       "    <tr>\n",
       "      <th>std</th>\n",
       "      <td>2.398597</td>\n",
       "    </tr>\n",
       "    <tr>\n",
       "      <th>min</th>\n",
       "      <td>0.000000</td>\n",
       "    </tr>\n",
       "    <tr>\n",
       "      <th>25%</th>\n",
       "      <td>2.000000</td>\n",
       "    </tr>\n",
       "    <tr>\n",
       "      <th>50%</th>\n",
       "      <td>4.000000</td>\n",
       "    </tr>\n",
       "    <tr>\n",
       "      <th>75%</th>\n",
       "      <td>6.000000</td>\n",
       "    </tr>\n",
       "    <tr>\n",
       "      <th>max</th>\n",
       "      <td>8.000000</td>\n",
       "    </tr>\n",
       "  </tbody>\n",
       "</table>\n",
       "</div>"
      ],
      "text/plain": [
       "         SNS利用時間\n",
       "count  53.000000\n",
       "mean    4.301887\n",
       "std     2.398597\n",
       "min     0.000000\n",
       "25%     2.000000\n",
       "50%     4.000000\n",
       "75%     6.000000\n",
       "max     8.000000"
      ]
     },
     "execution_count": 11,
     "metadata": {},
     "output_type": "execute_result"
    }
   ],
   "source": [
    "df.describe()"
   ]
  },
  {
   "cell_type": "code",
   "execution_count": 23,
   "id": "2849aaca",
   "metadata": {},
   "outputs": [
    {
     "data": {
      "text/plain": [
       "<Figure size 300x200 with 0 Axes>"
      ]
     },
     "metadata": {},
     "output_type": "display_data"
    },
    {
     "data": {
      "image/png": "[encoded data removed]",
      "text/plain": [
       "<Figure size 640x480 with 1 Axes>"
      ]
     },
     "metadata": {},
     "output_type": "display_data"
    }
   ],
   "source": [
    "# データの可視化\n",
    "plt.figure(figsize=(3, 2))\n",
    "\n",
    "# 箱ひげ図\n",
    "df.boxplot(column='SNS利用時間', by='交際しているかどうか') # column→縦軸、by→何に変えるか\n",
    "plt.title('交際しているかどうかごとのSNSの利用時間の分布')\n",
    "plt.suptitle('')  # デフォルトのタイトルを削除\n",
    "plt.ylabel('SNS利用時間')\n",
    "plt.grid(True, alpha=0.3)\n",
    "plt.show()"
   ]
  },
  {
   "cell_type": "code",
   "execution_count": 25,
   "id": "76b5fa0e",
   "metadata": {},
   "outputs": [
    {
     "name": "stdout",
     "output_type": "stream",
     "text": [
      "Mann-Whitney U検定の結果:\n",
      "U統計量: 266.0\n",
      "p値: 0.8927\n",
      "\n",
      "結果の解釈:\n",
      "p >= 0.05: 交際しているかどうかでSNS利用時間に統計的に有意な差はありません．\n"
     ]
    }
   ],
   "source": [
    "# Mann-Whitney U検定\n",
    "twenty_scores = df[df['交際しているかどうか']=='はい']['SNS利用時間']\n",
    "forty_scores = df[df['交際しているかどうか']=='いいえ']['SNS利用時間']\n",
    "\n",
    "stat, p_value = stats.mannwhitneyu(twenty_scores, forty_scores, alternative='two-sided')\n",
    "print(f\"Mann-Whitney U検定の結果:\")\n",
    "print(f\"U統計量: {stat}\")\n",
    "print(f\"p値: {p_value:.4f}\")\n",
    "print(f\"\\n結果の解釈:\")\n",
    "if p_value < 0.05:\n",
    "    print(\"p < 0.05: 交際しているかどうかでSNS利用時間に統計的に有意な差があります．\")\n",
    "else:\n",
    "    print(\"p >= 0.05: 交際しているかどうかでSNS利用時間に統計的に有意な差はありません．\")\n",
    "\n",
    "# p値だけレポートに載せるで大丈夫\n",
    "# サンプル数が多いと有意なさが出やすい"
   ]
  },
  {
   "cell_type": "markdown",
   "id": "4cb302ca",
   "metadata": {},
   "source": [
    "### リッカート尺度,性別"
   ]
  },
  {
   "cell_type": "code",
   "execution_count": 14,
   "id": "86aa417b",
   "metadata": {},
   "outputs": [
    {
     "name": "stdout",
     "output_type": "stream",
     "text": [
      "    性別  SNS利用時間\n",
      "0   男性        6\n",
      "1   男性        4\n",
      "2   男性        4\n",
      "3   男性        2\n",
      "4   男性        2\n",
      "5   男性        4\n",
      "6   男性        4\n",
      "7   男性        2\n",
      "8   男性        8\n",
      "9   男性        6\n",
      "10  男性        4\n",
      "11  男性        6\n",
      "12  男性        4\n",
      "13  男性        2\n",
      "14  男性        0\n",
      "15  男性        0\n",
      "16  男性        8\n",
      "17  男性        6\n",
      "18  男性        6\n",
      "19  男性        4\n",
      "20  男性        4\n",
      "21  男性        4\n",
      "22  男性        0\n",
      "23  男性        0\n",
      "24  男性        4\n",
      "25  男性        4\n",
      "26  男性        2\n",
      "27  男性        4\n",
      "28  男性        8\n",
      "29  男性        6\n",
      "30  男性        4\n",
      "31  男性        2\n",
      "32  男性        6\n",
      "33  男性        8\n",
      "34  男性        6\n",
      "35  男性        0\n",
      "36  男性        6\n",
      "37  女性        4\n",
      "38  女性        4\n",
      "39  女性        2\n",
      "40  女性        2\n",
      "41  女性        6\n",
      "42  女性        6\n",
      "43  女性        2\n",
      "44  女性        4\n",
      "45  女性        2\n",
      "46  女性        8\n",
      "47  女性        6\n",
      "48  女性        8\n",
      "49  女性        8\n",
      "50  女性        6\n",
      "51  女性        2\n",
      "52  女性        8\n",
      "\n",
      "データの形状: (53, 2)\n"
     ]
    }
   ],
   "source": [
    "# データ作成\n",
    "data = { #データの変数、内容を定義\n",
    "    '性別': ['男性']*37 + ['女性']*16, # 外交的と内向的、22人と31人\n",
    "    'SNS利用時間': [6,4,4,2,2,4,4,2,8,6,4,6,4,2,0,0,8,6,6,4,4,4,0,0,4,4,2,4,8,6,4,2,6,8,6,0,6,4,4,2,2,6,6,2,4,2,8,6,8,8,6,2,8]\n",
    "}\n",
    "df = pd.DataFrame(data) # pandasのDataFrameに変換\n",
    "\n",
    "# データの表示\n",
    "print(df) # 中身確認\n",
    "print(\"\\nデータの形状:\", df.shape) # 改行しながらデータを表示"
   ]
  },
  {
   "cell_type": "code",
   "execution_count": 15,
   "id": "7ecbc0bc",
   "metadata": {},
   "outputs": [
    {
     "data": {
      "text/html": [
       "<div>\n",
       "<style scoped>\n",
       "    .dataframe tbody tr th:only-of-type {\n",
       "        vertical-align: middle;\n",
       "    }\n",
       "\n",
       "    .dataframe tbody tr th {\n",
       "        vertical-align: top;\n",
       "    }\n",
       "\n",
       "    .dataframe thead th {\n",
       "        text-align: right;\n",
       "    }\n",
       "</style>\n",
       "<table border=\"1\" class=\"dataframe\">\n",
       "  <thead>\n",
       "    <tr style=\"text-align: right;\">\n",
       "      <th></th>\n",
       "      <th>SNS利用時間</th>\n",
       "    </tr>\n",
       "  </thead>\n",
       "  <tbody>\n",
       "    <tr>\n",
       "      <th>count</th>\n",
       "      <td>53.000000</td>\n",
       "    </tr>\n",
       "    <tr>\n",
       "      <th>mean</th>\n",
       "      <td>4.301887</td>\n",
       "    </tr>\n",
       "    <tr>\n",
       "      <th>std</th>\n",
       "      <td>2.398597</td>\n",
       "    </tr>\n",
       "    <tr>\n",
       "      <th>min</th>\n",
       "      <td>0.000000</td>\n",
       "    </tr>\n",
       "    <tr>\n",
       "      <th>25%</th>\n",
       "      <td>2.000000</td>\n",
       "    </tr>\n",
       "    <tr>\n",
       "      <th>50%</th>\n",
       "      <td>4.000000</td>\n",
       "    </tr>\n",
       "    <tr>\n",
       "      <th>75%</th>\n",
       "      <td>6.000000</td>\n",
       "    </tr>\n",
       "    <tr>\n",
       "      <th>max</th>\n",
       "      <td>8.000000</td>\n",
       "    </tr>\n",
       "  </tbody>\n",
       "</table>\n",
       "</div>"
      ],
      "text/plain": [
       "         SNS利用時間\n",
       "count  53.000000\n",
       "mean    4.301887\n",
       "std     2.398597\n",
       "min     0.000000\n",
       "25%     2.000000\n",
       "50%     4.000000\n",
       "75%     6.000000\n",
       "max     8.000000"
      ]
     },
     "execution_count": 15,
     "metadata": {},
     "output_type": "execute_result"
    }
   ],
   "source": [
    "df.describe()"
   ]
  },
  {
   "cell_type": "code",
   "execution_count": 16,
   "id": "409cd986",
   "metadata": {},
   "outputs": [
    {
     "data": {
      "text/plain": [
       "<Figure size 300x200 with 0 Axes>"
      ]
     },
     "metadata": {},
     "output_type": "display_data"
    },
    {
     "data": {
      "image/png": "[encoded data removed]",
      "text/plain": [
       "<Figure size 640x480 with 1 Axes>"
      ]
     },
     "metadata": {},
     "output_type": "display_data"
    }
   ],
   "source": [
    "# データの可視化\n",
    "plt.figure(figsize=(3, 2))\n",
    "\n",
    "# 箱ひげ図\n",
    "df.boxplot(column='SNS利用時間', by='性別') # column→縦軸、by→何に変えるか\n",
    "plt.title('性別ごとのSNSの利用時間の分布')\n",
    "plt.suptitle('')  # デフォルトのタイトルを削除\n",
    "plt.ylabel('SNS利用時間')\n",
    "plt.grid(True, alpha=0.3)\n",
    "plt.show()"
   ]
  },
  {
   "cell_type": "code",
   "execution_count": 17,
   "id": "85d6ee04",
   "metadata": {},
   "outputs": [
    {
     "name": "stdout",
     "output_type": "stream",
     "text": [
      "Mann-Whitney U検定の結果:\n",
      "U統計量: 245.5\n",
      "p値: 0.3190\n",
      "\n",
      "結果の解釈:\n",
      "p >= 0.05: 性別でSNS利用時間に統計的に有意な差はありません。\n"
     ]
    }
   ],
   "source": [
    "# Mann-Whitney U検定\n",
    "twenty_scores = df[df['性別']=='男性']['SNS利用時間']\n",
    "forty_scores = df[df['性別']=='女性']['SNS利用時間']\n",
    "\n",
    "stat, p_value = stats.mannwhitneyu(twenty_scores, forty_scores, alternative='two-sided')\n",
    "print(f\"Mann-Whitney U検定の結果:\")\n",
    "print(f\"U統計量: {stat}\")\n",
    "print(f\"p値: {p_value:.4f}\")\n",
    "print(f\"\\n結果の解釈:\")\n",
    "if p_value < 0.05:\n",
    "    print(\"p < 0.05: 性別でSNS利用時間に統計的に有意な差があります。\")\n",
    "else:\n",
    "    print(\"p >= 0.05: 性別でSNS利用時間に統計的に有意な差はありません。\")\n",
    "\n",
    "# p値だけレポートに載せるで大丈夫\n",
    "# サンプル数が多いと有意なさが出やすい"
   ]
  }
 ],
 "metadata": {
  "kernelspec": {
   "display_name": ".venv",
   "language": "python",
   "name": "python3"
  },
  "language_info": {
   "codemirror_mode": {
    "name": "ipython",
    "version": 3
   },
   "file_extension": ".py",
   "mimetype": "text/x-python",
   "name": "python",
   "nbconvert_exporter": "python",
   "pygments_lexer": "ipython3",
   "version": "3.12.9"
  }
 },
 "nbformat": 4,
 "nbformat_minor": 5
}
